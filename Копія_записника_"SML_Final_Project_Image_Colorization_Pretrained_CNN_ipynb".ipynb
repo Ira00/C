{
  "cells": [
    {
      "cell_type": "markdown",
      "metadata": {
        "id": "view-in-github",
        "colab_type": "text"
      },
      "source": [
        "<a href=\"https://colab.research.google.com/github/Ira00/C/blob/main/%D0%9A%D0%BE%D0%BF%D1%96%D1%8F_%D0%B7%D0%B0%D0%BF%D0%B8%D1%81%D0%BD%D0%B8%D0%BA%D0%B0_%22SML_Final_Project_Image_Colorization_Pretrained_CNN_ipynb%22.ipynb\" target=\"_parent\"><img src=\"https://colab.research.google.com/assets/colab-badge.svg\" alt=\"Open In Colab\"/></a>"
      ]
    },
    {
      "cell_type": "markdown",
      "metadata": {
        "id": "yyNRfY9A0cj1"
      },
      "source": [
        "# Image Colorization\n",
        "Before Artificial Intelligence, image colorization was reserved to artists that aimed to give the original colors to a picture. In fact, professional image colorization is currently done by hand in Photoshop. Despite it is a challenging problem due to the multiple image conditions that need to be considered, nowadays, deep learning techniques have achieved promising results in this field.\n",
        "\n",
        "This project aims to study the Image Colorization problem of the Computer Vision branch and implement a Deep Neural Network that is able to colorize black and white images.\n",
        "\n",
        "## Tools\n",
        "The tools utilized for this project include:\n",
        "- Python 3.7.\n",
        "- Tensorflow 2.4 with Keras: open-source framework for machine learning and deep learning applications. It was used to preprocess input data, create data pipelines and train models with different Keras layers.\n",
        "- Datalore: cloud service created by JetBrains that facilitates collaborative work with Jupyter Notebook.\n",
        "- Various python libraries, such as NumPy and matplotlib.\n",
        "\n",
        "## Dataset\n",
        "Regarding the data, two public datasets were used:\n",
        "- Flickr 30k dataset: a public dataset which contains 30 thousand images in 200x200 resolution. It has become a standard benchmark for image captioning, but because of the variety of images that it contains, this dataset was used for final training and validation of the models \\cite{flickr30k}.\n",
        "- Flickr 8k dataset: a subset of the previous dataset containing 8 thousand images in 200x200 resolution. It was used mostly for initial training of the models to understand the performance of the implemented models \\cite{flickr8k}.\n",
        "\n",
        "## Methodology\n",
        "First, the data will be collected from the selected dataset and prepared to be provided as an input for a deep learning model. After this, several architectures of Deep Neural Network including Convolutional Neural Networks and Autoencoders will be implemented using a machine learning framework. Finally, an evaluation metric such as Mean Squared Error (MSE) will be selected to compare the implemented models using hyper-tuning.\n",
        "\n",
        "## References\n",
        "[1] CIELAB color space.Wikipedia Article:  Advantages paragraph.\n",
        "\n",
        "[2] Flickr 30k dataset.https://www.kaggle.com/adityajn105/flickr30k.\n",
        "\n",
        "[3] Flickr  8k  dataset  with  captions.https://www.kaggle.com/kunalgupta2616/flickr-8k-images-with-captions.\n",
        "\n",
        "[4] tf.data.dataset api.https://www.tensorflow.org/apidocs/python/tf /data/Dataset.\n",
        "\n",
        "[5] Anwar, S., Tahir, M., Li, C., Mian, A., Khan, F. S., and Muzaffar, A. W.Imagecolorization:  A survey and dataset, 2020.\n",
        "\n",
        "[6] Chollet, F.Xception:  Deep learning with depthwise separable convolutions.  InProceedings ofthe IEEE conference on computer vision and pattern recognition(2017), pp. 1251–1258.\n",
        "\n",
        "[7] Lewinson,E.Imagecolorizationusingconvolutionalautoencoders.https://towardsdatascience.com/image-colorization-using-convolutional-autoencoders-fdabc1cb1dbe.\n",
        "\n",
        "[8]Zhang, R., Isola, P., and Efros, A. A.Colorful image colorization.  InEuropean conferenceon computer vision(2016), Springer, pp. 649–666."
      ]
    },
    {
      "cell_type": "markdown",
      "metadata": {
        "id": "VMC3hvT60cj2"
      },
      "source": [
        "## Dependencies"
      ]
    },
    {
      "cell_type": "code",
      "execution_count": null,
      "metadata": {
        "id": "gifRgX2VZgm3"
      },
      "outputs": [],
      "source": [
        "from google.colab import drive\n",
        "drive.mount('/content/drive')"
      ]
    },
    {
      "cell_type": "code",
      "execution_count": null,
      "metadata": {
        "id": "MCWAc1xIrEjv"
      },
      "outputs": [],
      "source": [
        "#len(os.listdir('train30000/Images'))"
      ]
    },
    {
      "cell_type": "code",
      "execution_count": null,
      "metadata": {
        "id": "kT7WcjaqiwDl"
      },
      "outputs": [],
      "source": [
        "!unzip drive/MyDrive/train30000.zip"
      ]
    },
    {
      "cell_type": "code",
      "execution_count": null,
      "metadata": {
        "id": "yKmdIy-pl83K"
      },
      "outputs": [],
      "source": [
        "#!unzip drive/MyDrive/my_train.zip"
      ]
    },
    {
      "cell_type": "code",
      "execution_count": null,
      "metadata": {
        "id": "xWM6o0GJ0cj3"
      },
      "outputs": [],
      "source": [
        "# Preprocessing\n",
        "import os\n",
        "import pathlib\n",
        "import numpy as np\n",
        "\n",
        "# Visualization\n",
        "import matplotlib.pyplot as plt\n",
        "\n",
        "# Deep Learning\n",
        "import tensorflow as tf\n",
        "from tensorflow.keras.applications import Xception\n",
        "from tensorflow.keras.layers import Conv2D, Conv2DTranspose, BatchNormalization, UpSampling2D, Dense, Reshape, Input, Flatten"
      ]
    },
    {
      "cell_type": "markdown",
      "metadata": {
        "id": "EhdLsGd30cj3"
      },
      "source": [
        "## Data Preprocessing\n",
        "In order to train the models, the datasets described above had to be preprocessed before being provided to the models. The original color space of the images was the infamous RGB representation, which represents the color from an image using three different channels: Red, Green and Blue. However, this color space does not approximate to the human vision, and previous literature has shown that better results can be achieved by using the [LAB color space](https://towardsdatascience.com/computer-vision-101-working-with-color-images-in-python-7b57381a8a54).\n",
        "\n",
        "LAB format splits the image in 3 channels:\n",
        "- L: Lightness of the image on a scale from 0 to 100. This channel represents a grayscale image.\n",
        "- a: green-red color spectrum. The values range from -128 (green) to 127 (red).\n",
        "- b: blue-yellow spectrum. The values range from -128 (blue) to 127 (yellow). "
      ]
    },
    {
      "cell_type": "markdown",
      "metadata": {
        "id": "4kLlu7T20cj4"
      },
      "source": [
        "### Third-party Helpers\n",
        "In order to use convert the images to LAB color space using tensorflow data pipeline, [third-party modules](https://github.com/xahidbuffon/TF_RGB_LAB) that can be compiled to graph were used."
      ]
    },
    {
      "cell_type": "code",
      "execution_count": null,
      "metadata": {
        "id": "cA5Jmwmo0cj4"
      },
      "outputs": [],
      "source": [
        "def preprocess_lab(lab):\n",
        "    with tf.name_scope('preprocess_lab'):\n",
        "        L_chan, a_chan, b_chan = tf.unstack(lab, axis=2)\n",
        "        # L_chan: black and white with input range [0, 100]\n",
        "        # a_chan/b_chan: color channels with input range ~[-110, 110], not exact\n",
        "        # [0, 100] => [-1, 1],  ~[-110, 110] => [-1, 1]\n",
        "        return [L_chan / 50 - 1, a_chan / 110, b_chan / 110]\n",
        "\n",
        "def deprocess_lab(L_chan, a_chan, b_chan):\n",
        "    with tf.name_scope('deprocess_lab'):\n",
        "        #TODO This is axis=3 instead of axis=2 when deprocessing batch of images \n",
        "               # ( we process individual images but deprocess batches)\n",
        "        #return tf.stack([(L_chan + 1) / 2 * 100, a_chan * 110, b_chan * 110], axis=3)\n",
        "        return tf.stack([(L_chan + 1) / 2 * 100, a_chan * 110, b_chan * 110], axis=2)\n",
        "\n",
        "def check_image(image):\n",
        "    assertion = tf.assert_equal(tf.shape(image)[-1], 3, message='image must have 3 color channels')\n",
        "    with tf.control_dependencies([assertion]):\n",
        "        image = tf.identity(image)\n",
        "\n",
        "    if image.get_shape().ndims not in (3, 4):\n",
        "        raise ValueError('image must be either 3 or 4 dimensions')\n",
        "\n",
        "    # make the last dimension 3 so that you can unstack the colors\n",
        "    shape = list(image.get_shape())\n",
        "    shape[-1] = 3\n",
        "    image.set_shape(shape)\n",
        "    return image\n",
        "\n",
        "def rgb_to_lab(srgb):\n",
        "    # based on https://github.com/torch/image/blob/9f65c30167b2048ecbe8b7befdc6b2d6d12baee9/generic/image.c\n",
        "    with tf.name_scope('rgb_to_lab'):\n",
        "        srgb = check_image(srgb)\n",
        "        srgb_pixels = tf.reshape(srgb, [-1, 3])\n",
        "        with tf.name_scope('srgb_to_xyz'):\n",
        "            linear_mask = tf.cast(srgb_pixels <= 0.04045, dtype=tf.float32)\n",
        "            exponential_mask = tf.cast(srgb_pixels > 0.04045, dtype=tf.float32)\n",
        "            rgb_pixels = (srgb_pixels / 12.92 * linear_mask) + (((srgb_pixels + 0.055) / 1.055) ** 2.4) * exponential_mask\n",
        "            rgb_to_xyz = tf.constant([\n",
        "                #    X        Y          Z\n",
        "                [0.412453, 0.212671, 0.019334], # R\n",
        "                [0.357580, 0.715160, 0.119193], # G\n",
        "                [0.180423, 0.072169, 0.950227], # B\n",
        "            ])\n",
        "            xyz_pixels = tf.matmul(rgb_pixels, rgb_to_xyz)\n",
        "\n",
        "        # https://en.wikipedia.org/wiki/Lab_color_space#CIELAB-CIEXYZ_conversions\n",
        "        with tf.name_scope('xyz_to_cielab'):\n",
        "            # convert to fx = f(X/Xn), fy = f(Y/Yn), fz = f(Z/Zn)\n",
        "\n",
        "            # normalize for D65 white point\n",
        "            xyz_normalized_pixels = tf.multiply(xyz_pixels, [1/0.950456, 1.0, 1/1.088754])\n",
        "\n",
        "            epsilon = 6/29\n",
        "            linear_mask = tf.cast(xyz_normalized_pixels <= (epsilon**3), dtype=tf.float32)\n",
        "            exponential_mask = tf.cast(xyz_normalized_pixels > (epsilon**3), dtype=tf.float32)\n",
        "            fxfyfz_pixels = (xyz_normalized_pixels / (3 * epsilon**2) + 4/29) * linear_mask + (xyz_normalized_pixels ** (1/3)) * exponential_mask\n",
        "\n",
        "            # convert to lab\n",
        "            fxfyfz_to_lab = tf.constant([\n",
        "                #  l       a       b\n",
        "                [  0.0,  500.0,    0.0], # fx\n",
        "                [116.0, -500.0,  200.0], # fy\n",
        "                [  0.0,    0.0, -200.0], # fz\n",
        "            ])\n",
        "            lab_pixels = tf.matmul(fxfyfz_pixels, fxfyfz_to_lab) + tf.constant([-16.0, 0.0, 0.0])\n",
        "\n",
        "        return tf.reshape(lab_pixels, tf.shape(srgb))\n",
        "\n",
        "\n",
        "def lab_to_rgb(lab):\n",
        "    with tf.name_scope('lab_to_rgb'):\n",
        "        lab = check_image(lab)\n",
        "        lab_pixels = tf.reshape(lab, [-1, 3])\n",
        "        # https://en.wikipedia.org/wiki/Lab_color_space#CIELAB-CIEXYZ_conversions\n",
        "        with tf.name_scope('cielab_to_xyz'):\n",
        "            # convert to fxfyfz\n",
        "            lab_to_fxfyfz = tf.constant([\n",
        "                #   fx      fy        fz\n",
        "                [1/116.0, 1/116.0,  1/116.0], # l\n",
        "                [1/500.0,     0.0,      0.0], # a\n",
        "                [    0.0,     0.0, -1/200.0], # b\n",
        "            ])\n",
        "            fxfyfz_pixels = tf.matmul(lab_pixels + tf.constant([16.0, 0.0, 0.0]), lab_to_fxfyfz)\n",
        "\n",
        "            # convert to xyz\n",
        "            epsilon = 6/29\n",
        "            linear_mask = tf.cast(fxfyfz_pixels <= epsilon, dtype=tf.float32)\n",
        "            exponential_mask = tf.cast(fxfyfz_pixels > epsilon, dtype=tf.float32)\n",
        "            xyz_pixels = (3 * epsilon**2 * (fxfyfz_pixels - 4/29)) * linear_mask + (fxfyfz_pixels ** 3) * exponential_mask\n",
        "\n",
        "            # denormalize for D65 white point\n",
        "            xyz_pixels = tf.multiply(xyz_pixels, [0.950456, 1.0, 1.088754])\n",
        "\n",
        "        with tf.name_scope('xyz_to_srgb'):\n",
        "            xyz_to_rgb = tf.constant([\n",
        "                #     r           g          b\n",
        "                [ 3.2404542, -0.9692660,  0.0556434], # x\n",
        "                [-1.5371385,  1.8760108, -0.2040259], # y\n",
        "                [-0.4985314,  0.0415560,  1.0572252], # z\n",
        "            ])\n",
        "            rgb_pixels = tf.matmul(xyz_pixels, xyz_to_rgb)\n",
        "            # avoid a slightly negative number messing up the conversion\n",
        "            rgb_pixels = tf.clip_by_value(rgb_pixels, 0.0, 1.0)\n",
        "            linear_mask = tf.cast(rgb_pixels <= 0.0031308, dtype=tf.float32)\n",
        "            exponential_mask = tf.cast(rgb_pixels > 0.0031308, dtype=tf.float32)\n",
        "            srgb_pixels = (rgb_pixels * 12.92 * linear_mask) + ((rgb_pixels ** (1/2.4) * 1.055) - 0.055) * exponential_mask\n",
        "\n",
        "        return tf.reshape(srgb_pixels, tf.shape(lab))"
      ]
    },
    {
      "cell_type": "markdown",
      "metadata": {
        "id": "gIEx7tQp0cj7"
      },
      "source": [
        "### Custom Helpers"
      ]
    },
    {
      "cell_type": "code",
      "execution_count": null,
      "metadata": {
        "id": "xFaz7Yne0cj9"
      },
      "outputs": [],
      "source": [
        "# Size used for input images\n",
        "img_height = 128\n",
        "img_width = 128"
      ]
    },
    {
      "cell_type": "code",
      "execution_count": null,
      "metadata": {
        "id": "i-ndDTFP0cj-"
      },
      "outputs": [],
      "source": [
        "@tf.function\n",
        "def get_image_lab(img_path, height=img_height, width=img_width):\n",
        "    img = tf.io.read_file(img_path)\n",
        "    img = tf.image.decode_jpeg(img, channels=3)\n",
        "    img = tf.image.resize(img, [height, width])\n",
        "       \n",
        "    image_lab = rgb_to_lab(img / 255.0)\n",
        "    # L_chan, a_chan, b_chan = preprocess_lab(image_lab)\n",
        "    # image_lab = deprocess_lab(L_chan, a_chan, b_chan)\n",
        "    # image_lab = (image_lab) # + [0, 128, 128]) / [100, 255, 255]\n",
        "\n",
        "    return image_lab"
      ]
    },
    {
      "cell_type": "code",
      "execution_count": null,
      "metadata": {
        "id": "nF3zD_3E0cj-"
      },
      "outputs": [],
      "source": [
        "@tf.function\n",
        "def get_l_ab_channels(img_path, height=img_height, width=img_width):\n",
        "    image_lab = get_image_lab(img_path, height, width)\n",
        "    \n",
        "    image_l = tf.expand_dims(image_lab[:,:,0], -1)\n",
        "    image_ab = image_lab[:,:,1:]\n",
        "\n",
        "    return image_l, image_ab"
      ]
    },
    {
      "cell_type": "code",
      "execution_count": null,
      "metadata": {
        "id": "3O738dVO0cj-"
      },
      "outputs": [],
      "source": [
        "# Explanation of how we plot LAB color space: https://towardsdatascience.com/computer-vision-101-working-with-color-images-in-python-7b57381a8a54\n",
        "def preview_lab_image(img_path, height=img_height, width=img_width):\n",
        "    fig, ax = plt.subplots(1, 6, figsize = (18, 30))\n",
        "    \n",
        "    image_lab = get_image_lab(img_path, height, width)\n",
        "    \n",
        "    original_img = lab_to_rgb(image_lab)\n",
        "    original_img = tf.image.convert_image_dtype(original_img, dtype=tf.uint8, saturate=True)\n",
        "    \n",
        "    ax[0].imshow(original_img) # * [100, 255, 255] - [0, 128, 128])) \n",
        "    ax[0].axis('off')\n",
        "    ax[0].set_title('Original')\n",
        "    \n",
        "    ax[1].imshow(image_lab.numpy()) \n",
        "    ax[1].axis('off')\n",
        "    ax[1].set_title('Lab')\n",
        "    \n",
        "    #imshow(image_lab[:,:,0], ax=ax[1])\n",
        "    ax[2].imshow(image_lab[:,:,0].numpy(), cmap='gray') \n",
        "    ax[2].axis('off')\n",
        "    ax[2].set_title('L')\n",
        "\n",
        "    ax[3].imshow(image_lab[:,:,1].numpy(), cmap='RdYlGn_r') \n",
        "    ax[3].axis('off')\n",
        "    ax[3].set_title('a')\n",
        "\n",
        "    ax[4].imshow(image_lab[:,:,2].numpy(), cmap='YlGnBu_r') \n",
        "    ax[4].axis('off')\n",
        "    ax[4].set_title('b')\n",
        "    \n",
        "    ax[5].imshow(np.concatenate((np.zeros((img_height, img_width, 1)), image_lab[:,:,1:].numpy()), axis=2)) \n",
        "    ax[5].axis('off')\n",
        "    ax[5].set_title('ab')\n",
        "\n",
        "    plt.show()"
      ]
    },
    {
      "cell_type": "markdown",
      "metadata": {
        "id": "Yw4qlmOi0cj-"
      },
      "source": [
        "### Test with single image"
      ]
    },
    {
      "cell_type": "code",
      "execution_count": null,
      "metadata": {
        "id": "NPdX6YrjjuCC"
      },
      "outputs": [],
      "source": [
        "#print(os.listdir('train30000/Images')[0])"
      ]
    },
    {
      "cell_type": "code",
      "execution_count": null,
      "metadata": {
        "id": "DPKP1daN0cj_"
      },
      "outputs": [],
      "source": [
        "#preview_lab_image(\"train30000/Images/144328407.jpg\", img_height, img_width)"
      ]
    },
    {
      "cell_type": "code",
      "execution_count": null,
      "metadata": {
        "id": "nA4aDdr90cj_"
      },
      "outputs": [],
      "source": [
        "#image_channels = get_l_ab_channels(\"train30000/Images/144328407.jpg\", img_height, img_width)\n",
        "#print(image_channels[0].shape)\n",
        "#print(image_channels[1].shape)"
      ]
    },
    {
      "cell_type": "markdown",
      "metadata": {
        "id": "CcuJhQ8W0ckA"
      },
      "source": [
        "## Load Dataset\n",
        "Regarding the data, two public datasets were used:\n",
        "- Flickr 30k dataset: a public dataset which contains 30 thousand images in 200x200 resolution. It has become a standard benchmark for image captioning, but because of the variety of images that it contains, this dataset was used for final training and validation of the models.\n",
        "- Flickr 8k dataset: a subset of the previous dataset containing 8 thousand images in 200x200 resolution. It was used mostly for initial training of the models to understand the performance of the implemented models."
      ]
    },
    {
      "cell_type": "markdown",
      "metadata": {
        "id": "FKCfqiQZ0ckA"
      },
      "source": [
        "### Configuration"
      ]
    },
    {
      "cell_type": "code",
      "execution_count": null,
      "metadata": {
        "id": "Da2PuHkQ0ckA"
      },
      "outputs": [],
      "source": [
        "AUTOTUNE = tf.data.experimental.AUTOTUNE\n",
        "\n",
        "# Dataset local path\n",
        "dataset_path = \"train30000/Images/flickr30k_images\"\n",
        "dataset_path = pathlib.Path(dataset_path)\n",
        "image_count = len(list(dataset_path.glob('*.jpg')))\n",
        "\n",
        "# Training configuration\n",
        "validation_split = 0.2\n",
        "batch_size = 96"
      ]
    },
    {
      "cell_type": "code",
      "execution_count": null,
      "metadata": {
        "colab": {
          "base_uri": "https://localhost:8080/"
        },
        "id": "HLWoXXgnkJ9B",
        "outputId": "6737ca50-d2d3-42ab-c6a2-1f4bdc757a4f"
      },
      "outputs": [
        {
          "data": {
            "text/plain": [
              "31783"
            ]
          },
          "execution_count": 33,
          "metadata": {},
          "output_type": "execute_result"
        }
      ],
      "source": [
        "image_count"
      ]
    },
    {
      "cell_type": "markdown",
      "metadata": {
        "id": "r3a1rIaU0ckB"
      },
      "source": [
        "###  Generate Image Pipelines "
      ]
    },
    {
      "cell_type": "code",
      "execution_count": null,
      "metadata": {
        "id": "gYbrxyd80ckB"
      },
      "outputs": [],
      "source": [
        "list_ds = tf.data.Dataset.list_files(str(dataset_path/'*'), shuffle=False)\n",
        "list_ds = list_ds.shuffle(image_count, reshuffle_each_iteration=False)"
      ]
    },
    {
      "cell_type": "code",
      "execution_count": null,
      "metadata": {
        "id": "eKOKzr7i0ckB"
      },
      "outputs": [],
      "source": [
        "val_size = int(image_count * validation_split)\n",
        "train_ds = list_ds.skip(val_size)\n",
        "val_ds = list_ds.take(val_size)"
      ]
    },
    {
      "cell_type": "code",
      "execution_count": null,
      "metadata": {
        "colab": {
          "base_uri": "https://localhost:8080/"
        },
        "id": "oF5sxgeqnbpk",
        "outputId": "612048fd-8209-42cb-ba47-9d6c9f1188cc"
      },
      "outputs": [
        {
          "data": {
            "text/plain": [
              "6356"
            ]
          },
          "execution_count": 36,
          "metadata": {},
          "output_type": "execute_result"
        }
      ],
      "source": [
        "val_size"
      ]
    },
    {
      "cell_type": "code",
      "execution_count": null,
      "metadata": {
        "id": "n8jCCweS0ckB"
      },
      "outputs": [],
      "source": [
        "# Set `num_parallel_calls` so multiple images are loaded/processed in parallel.\n",
        "train_ds = train_ds.map(get_l_ab_channels, num_parallel_calls=AUTOTUNE)\n",
        "val_ds = val_ds.map(get_l_ab_channels, num_parallel_calls=AUTOTUNE)"
      ]
    },
    {
      "cell_type": "markdown",
      "metadata": {
        "id": "7hEirpYS0ckB"
      },
      "source": [
        "### Boost Data Pipelines\n",
        "Adjust train and validation sets for better performance. [More info](https://www.tensorflow.org/api_docs/python/tf/data/Dataset)"
      ]
    },
    {
      "cell_type": "code",
      "execution_count": null,
      "metadata": {
        "id": "oEf1hWKm0ckB"
      },
      "outputs": [],
      "source": [
        "def configure_for_performance(ds, cache_dir):\n",
        "    ds = ds.cache(cache_dir)\n",
        "    ds = ds.shuffle(buffer_size=image_count)\n",
        "    ds = ds.batch(batch_size)\n",
        "    ds = ds.prefetch(buffer_size=AUTOTUNE)\n",
        "    return ds"
      ]
    },
    {
      "cell_type": "code",
      "execution_count": null,
      "metadata": {
        "id": "0XoU-KSm0ckC"
      },
      "outputs": [],
      "source": [
        "train_ds = configure_for_performance(train_ds, './train_ds')\n",
        "val_ds = configure_for_performance(val_ds, './val_ds')"
      ]
    },
    {
      "cell_type": "code",
      "execution_count": null,
      "metadata": {
        "colab": {
          "base_uri": "https://localhost:8080/"
        },
        "id": "XfeYfsbEmw0B",
        "outputId": "a2b6bacf-3fa1-4343-8e16-ab97ec9157fd"
      },
      "outputs": [
        {
          "name": "stdout",
          "output_type": "stream",
          "text": [
            "<TakeDataset element_spec=(TensorSpec(shape=(None, 128, 128, 1), dtype=tf.float32, name=None), TensorSpec(shape=(None, 128, 128, 2), dtype=tf.float32, name=None))>\n"
          ]
        }
      ],
      "source": [
        "print(train_ds.take(1))"
      ]
    },
    {
      "cell_type": "code",
      "execution_count": null,
      "metadata": {
        "colab": {
          "base_uri": "https://localhost:8080/"
        },
        "id": "BnDj6bfkF9j4",
        "outputId": "6d6944da-5b25-46d5-d6f9-082265e4532d"
      },
      "outputs": [
        {
          "data": {
            "text/plain": [
              "31783"
            ]
          },
          "execution_count": 41,
          "metadata": {},
          "output_type": "execute_result"
        }
      ],
      "source": [
        "len(os.listdir('train30000/Images/flickr30k_images'))"
      ]
    },
    {
      "cell_type": "markdown",
      "metadata": {
        "id": "FBelpd4u0ckC"
      },
      "source": [
        "### Visualize Train Data"
      ]
    },
    {
      "cell_type": "code",
      "execution_count": null,
      "metadata": {
        "colab": {
          "base_uri": "https://localhost:8080/",
          "height": 264
        },
        "id": "22HKbO560ckC",
        "outputId": "da96561f-a013-47fe-8145-827c003542db"
      },
      "outputs": [
        {
          "data": {
            "image/png": "[encoded data removed]",
            "text/plain": [
              "<Figure size 432x288 with 9 Axes>"
            ]
          },
          "metadata": {},
          "output_type": "display_data"
        }
      ],
      "source": [
        "for image_batch, label_batch in train_ds.take(1):\n",
        "    for i in range(9):\n",
        "        ax = plt.subplot(3, 3, i + 1)\n",
        "    \n",
        "        plt.imshow(image_batch[i][:,:,0].numpy(), cmap='gray')\n",
        "        plt.title(i)\n",
        "        plt.axis(\"off\")"
      ]
    },
    {
      "cell_type": "markdown",
      "metadata": {
        "id": "WABAi-Lx0ckC"
      },
      "source": [
        "## Models"
      ]
    },
    {
      "cell_type": "markdown",
      "metadata": {
        "id": "5jkQdz140ckC"
      },
      "source": [
        "### CNN Model\n",
        "The first model trained was inspired by the architecture used in the [Colorful Image Colorization paper](https://arxiv.org/pdf/1603.08511.pdf). The model is build of 8 blocks of convolutional layers, without any pooling layers and using only batch normalization at the end of each block, as the only regularization. The implemented model did not follow exactly the proposed architecture: it does not have a softmax activation layer towards the end of the network and it uses standard Adam optimizer and Mean Square Error loss."
      ]
    },
    {
      "cell_type": "code",
      "execution_count": null,
      "metadata": {
        "id": "Mo40I8Ps0ckD"
      },
      "outputs": [],
      "source": [
        "def get_cnn_model():\n",
        "    model = tf.keras.Sequential([        \n",
        "        # CONV 1\n",
        "        Conv2D(filters=64, kernel_size=3, strides=(1,1), padding='same', activation='relu', input_shape=(img_height, img_width, 1)),\n",
        "        Conv2D(filters=64, kernel_size=3, strides=(2,2), padding='same', activation='relu'),\n",
        "        BatchNormalization(),\n",
        "\n",
        "        # CONV2\n",
        "        Conv2D(filters=128, kernel_size=3, strides=(1,1), padding='same', activation='relu'),\n",
        "        Conv2D(filters=128, kernel_size=3, strides=(2,2), padding='same', activation='relu'),\n",
        "        BatchNormalization(),\n",
        "\n",
        "        #CONV3\n",
        "        Conv2D(filters=256, kernel_size=3, strides=(1,1), padding='same', activation='relu'),\n",
        "        Conv2D(filters=256, kernel_size=3, strides=(1,1), padding='same', activation='relu'),\n",
        "        Conv2D(filters=256, kernel_size=3, strides=(2,2), padding='same', activation='relu'),\n",
        "        BatchNormalization(),\n",
        "\n",
        "        # CONV4\n",
        "        Conv2D(filters=512, kernel_size=3, strides=(1,1), padding='same', activation='relu'),\n",
        "        Conv2D(filters=512, kernel_size=3, strides=(1,1), padding='same', activation='relu'),\n",
        "        Conv2D(filters=512, kernel_size=3, strides=(1,1), padding='same', activation='relu'),\n",
        "        BatchNormalization(),\n",
        "\n",
        "        # CONV5 (padding=2)\n",
        "        Conv2D(filters=512, kernel_size=3, dilation_rate=2, strides=(1,1), padding='same', activation='relu'),\n",
        "        Conv2D(filters=512, kernel_size=3, dilation_rate=2, strides=(1,1), padding='same', activation='relu'),\n",
        "        Conv2D(filters=512, kernel_size=3, dilation_rate=2, strides=(1,1), padding='same', activation='relu'),\n",
        "        BatchNormalization(),\n",
        "\n",
        "        # CONV6 (padding=2)\n",
        "        Conv2D(filters=512, kernel_size=3, dilation_rate=2, strides=(1,1), padding='same', activation='relu'),\n",
        "        Conv2D(filters=512, kernel_size=3, dilation_rate=2, strides=(1,1), padding='same', activation='relu'),\n",
        "        Conv2D(filters=512, kernel_size=3, dilation_rate=2, strides=(1,1), padding='same', activation='relu'),\n",
        "        BatchNormalization(),\n",
        "\n",
        "        # CONV7\n",
        "        Conv2D(filters=512, kernel_size=3, strides=(1,1), padding='same', activation='relu'),\n",
        "        Conv2D(filters=512, kernel_size=3, strides=(1,1), padding='same', activation='relu'),\n",
        "        Conv2D(filters=512, kernel_size=3, strides=(1,1), padding='same', activation='relu'),\n",
        "        BatchNormalization(),\n",
        "\n",
        "        # CONV8\n",
        "        Conv2DTranspose(filters=256, kernel_size=4, strides=(2,2), padding='same', activation='relu'),\n",
        "        Conv2D(filters=256, kernel_size=3, strides=(1,1), padding='same', activation='relu'),\n",
        "        Conv2D(filters=313, kernel_size=1, strides=(1,1), padding='valid'),\n",
        "        # Softmax(axis=1), This layer was commented from the original model\n",
        "\n",
        "        # OUTPUT\n",
        "        Conv2D(filters=2, kernel_size=1, padding='valid', dilation_rate=1, strides=(1,1), use_bias=False),\n",
        "        UpSampling2D(size=4, interpolation='bilinear'),\n",
        "    ])\n",
        "    \n",
        "    # Show model summary\n",
        "    model.build()\n",
        "    print(model.summary())\n",
        "\n",
        "    return model"
      ]
    },
    {
      "cell_type": "code",
      "execution_count": null,
      "metadata": {
        "colab": {
          "base_uri": "https://localhost:8080/"
        },
        "id": "ENzeAinY0ckD",
        "outputId": "b7f56e78-74ef-4a6b-c6c2-cac9ceff31ce"
      },
      "outputs": [
        {
          "name": "stdout",
          "output_type": "stream",
          "text": [
            "Model: \"sequential\"\n",
            "_________________________________________________________________\n",
            " Layer (type)                Output Shape              Param #   \n",
            "=================================================================\n",
            " conv2d (Conv2D)             (None, 128, 128, 64)      640       \n",
            "                                                                 \n",
            " conv2d_1 (Conv2D)           (None, 64, 64, 64)        36928     \n",
            "                                                                 \n",
            " batch_normalization (BatchN  (None, 64, 64, 64)       256       \n",
            " ormalization)                                                   \n",
            "                                                                 \n",
            " conv2d_2 (Conv2D)           (None, 64, 64, 128)       73856     \n",
            "                                                                 \n",
            " conv2d_3 (Conv2D)           (None, 32, 32, 128)       147584    \n",
            "                                                                 \n",
            " batch_normalization_1 (Batc  (None, 32, 32, 128)      512       \n",
            " hNormalization)                                                 \n",
            "                                                                 \n",
            " conv2d_4 (Conv2D)           (None, 32, 32, 256)       295168    \n",
            "                                                                 \n",
            " conv2d_5 (Conv2D)           (None, 32, 32, 256)       590080    \n",
            "                                                                 \n",
            " conv2d_6 (Conv2D)           (None, 16, 16, 256)       590080    \n",
            "                                                                 \n",
            " batch_normalization_2 (Batc  (None, 16, 16, 256)      1024      \n",
            " hNormalization)                                                 \n",
            "                                                                 \n",
            " conv2d_7 (Conv2D)           (None, 16, 16, 512)       1180160   \n",
            "                                                                 \n",
            " conv2d_8 (Conv2D)           (None, 16, 16, 512)       2359808   \n",
            "                                                                 \n",
            " conv2d_9 (Conv2D)           (None, 16, 16, 512)       2359808   \n",
            "                                                                 \n",
            " batch_normalization_3 (Batc  (None, 16, 16, 512)      2048      \n",
            " hNormalization)                                                 \n",
            "                                                                 \n",
            " conv2d_10 (Conv2D)          (None, 16, 16, 512)       2359808   \n",
            "                                                                 \n",
            " conv2d_11 (Conv2D)          (None, 16, 16, 512)       2359808   \n",
            "                                                                 \n",
            " conv2d_12 (Conv2D)          (None, 16, 16, 512)       2359808   \n",
            "                                                                 \n",
            " batch_normalization_4 (Batc  (None, 16, 16, 512)      2048      \n",
            " hNormalization)                                                 \n",
            "                                                                 \n",
            " conv2d_13 (Conv2D)          (None, 16, 16, 512)       2359808   \n",
            "                                                                 \n",
            " conv2d_14 (Conv2D)          (None, 16, 16, 512)       2359808   \n",
            "                                                                 \n",
            " conv2d_15 (Conv2D)          (None, 16, 16, 512)       2359808   \n",
            "                                                                 \n",
            " batch_normalization_5 (Batc  (None, 16, 16, 512)      2048      \n",
            " hNormalization)                                                 \n",
            "                                                                 \n",
            " conv2d_16 (Conv2D)          (None, 16, 16, 512)       2359808   \n",
            "                                                                 \n",
            " conv2d_17 (Conv2D)          (None, 16, 16, 512)       2359808   \n",
            "                                                                 \n",
            " conv2d_18 (Conv2D)          (None, 16, 16, 512)       2359808   \n",
            "                                                                 \n",
            " batch_normalization_6 (Batc  (None, 16, 16, 512)      2048      \n",
            " hNormalization)                                                 \n",
            "                                                                 \n",
            " conv2d_transpose (Conv2DTra  (None, 32, 32, 256)      2097408   \n",
            " nspose)                                                         \n",
            "                                                                 \n",
            " conv2d_19 (Conv2D)          (None, 32, 32, 256)       590080    \n",
            "                                                                 \n",
            " conv2d_20 (Conv2D)          (None, 32, 32, 313)       80441     \n",
            "                                                                 \n",
            " conv2d_21 (Conv2D)          (None, 32, 32, 2)         626       \n",
            "                                                                 \n",
            " up_sampling2d (UpSampling2D  (None, 128, 128, 2)      0         \n",
            " )                                                               \n",
            "                                                                 \n",
            "=================================================================\n",
            "Total params: 31,650,923\n",
            "Trainable params: 31,645,931\n",
            "Non-trainable params: 4,992\n",
            "_________________________________________________________________\n",
            "None\n"
          ]
        },
        {
          "data": {
            "text/plain": [
              "<keras.engine.sequential.Sequential at 0x7f0429608e50>"
            ]
          },
          "execution_count": 44,
          "metadata": {},
          "output_type": "execute_result"
        }
      ],
      "source": [
        "get_cnn_model()"
      ]
    },
    {
      "cell_type": "markdown",
      "metadata": {
        "id": "VeR2CWwy0ckD"
      },
      "source": [
        "### Autoencoder Model\n",
        "The following architecture was adapted from a [blog](https://towardsdatascience.com/image-colorization-using-convolutional-autoencoders-fdabc1cb1dbe) on TowardsDataScience website, where the author was testing different deep learning models for the image colorization using screenshots from Wario Land games. One of the proposed models was an autoencoder that consisted of an encoder part with 4 convolutional layers: the central block of layers, one Flatten, two Dense and one Reshape layers; and the decoder part with 4 convolutional transpose layers. The training was done using RSMprop optimizer and Mean Square Error loss."
      ]
    },
    {
      "cell_type": "code",
      "execution_count": null,
      "metadata": {
        "id": "PXLm9F_t0ckD"
      },
      "outputs": [],
      "source": [
        "def get_model_autoencoder():\n",
        "    model = tf.keras.Sequential([\n",
        "        Input(shape=(img_height, img_width, 1)),\n",
        "\n",
        "        # ENCODING CONVOLUTIONAL LAYERS\n",
        "        Conv2D(filters=32, kernel_size=3, padding='same', activation='relu', strides=2),\n",
        "        Conv2D(filters=64, kernel_size=3, padding='same', activation='relu', strides=2),\n",
        "        Conv2D(filters=128, kernel_size=3, padding='same', activation='relu', strides=2),\n",
        "        Conv2D(filters=256, kernel_size=3, padding='same', activation='relu', strides=2),\n",
        "\n",
        "        # CENTRAL LAYERS\n",
        "        Flatten(),\n",
        "        Dense(256),\n",
        "        Dense(8*8*256),\n",
        "        Reshape((8, 8, 256)),\n",
        "\n",
        "        # DECODING CONVOLUTIONAL TRANSPOSE LAYERS\n",
        "        Conv2DTranspose(filters=256, kernel_size=3, padding='same', activation='relu', strides=2),\n",
        "        Conv2DTranspose(filters=128, kernel_size=3, padding='same', activation='relu', strides=2),\n",
        "        Conv2DTranspose(filters=64, kernel_size=3, padding='same', activation='relu', strides=2),\n",
        "        Conv2DTranspose(filters=2, kernel_size=3, padding='same', activation='relu', strides=2)\n",
        "    ])\n",
        "\n",
        "    # Show model summary\n",
        "    model.build()\n",
        "    print(model.summary())\n",
        "    \n",
        "    return model"
      ]
    },
    {
      "cell_type": "code",
      "execution_count": null,
      "metadata": {
        "colab": {
          "base_uri": "https://localhost:8080/"
        },
        "id": "z5TMspRL0ckD",
        "outputId": "75dee3c9-ec54-41fb-f033-07a68176f0f9"
      },
      "outputs": [
        {
          "name": "stdout",
          "output_type": "stream",
          "text": [
            "Model: \"sequential_1\"\n",
            "_________________________________________________________________\n",
            " Layer (type)                Output Shape              Param #   \n",
            "=================================================================\n",
            " conv2d_22 (Conv2D)          (None, 64, 64, 32)        320       \n",
            "                                                                 \n",
            " conv2d_23 (Conv2D)          (None, 32, 32, 64)        18496     \n",
            "                                                                 \n",
            " conv2d_24 (Conv2D)          (None, 16, 16, 128)       73856     \n",
            "                                                                 \n",
            " conv2d_25 (Conv2D)          (None, 8, 8, 256)         295168    \n",
            "                                                                 \n",
            " flatten (Flatten)           (None, 16384)             0         \n",
            "                                                                 \n",
            " dense (Dense)               (None, 256)               4194560   \n",
            "                                                                 \n",
            " dense_1 (Dense)             (None, 16384)             4210688   \n",
            "                                                                 \n",
            " reshape (Reshape)           (None, 8, 8, 256)         0         \n",
            "                                                                 \n",
            " conv2d_transpose_1 (Conv2DT  (None, 16, 16, 256)      590080    \n",
            " ranspose)                                                       \n",
            "                                                                 \n",
            " conv2d_transpose_2 (Conv2DT  (None, 32, 32, 128)      295040    \n",
            " ranspose)                                                       \n",
            "                                                                 \n",
            " conv2d_transpose_3 (Conv2DT  (None, 64, 64, 64)       73792     \n",
            " ranspose)                                                       \n",
            "                                                                 \n",
            " conv2d_transpose_4 (Conv2DT  (None, 128, 128, 2)      1154      \n",
            " ranspose)                                                       \n",
            "                                                                 \n",
            "=================================================================\n",
            "Total params: 9,753,154\n",
            "Trainable params: 9,753,154\n",
            "Non-trainable params: 0\n",
            "_________________________________________________________________\n",
            "None\n"
          ]
        },
        {
          "data": {
            "text/plain": [
              "<keras.engine.sequential.Sequential at 0x7f04295092d0>"
            ]
          },
          "execution_count": 46,
          "metadata": {},
          "output_type": "execute_result"
        }
      ],
      "source": [
        "get_model_autoencoder()"
      ]
    },
    {
      "cell_type": "markdown",
      "metadata": {
        "id": "3HoyWd5E0ckE"
      },
      "source": [
        "### Combination of CNN and pretrained model\n",
        "The last implemented architecture was a combination of [Xception pretrained model](https://arxiv.org/pdf/1610.02357.pdf) that acted as an encoder for the input image and five convolutional layers that decode this representation to the expected output. During the training stage, Adam optimizer and Mean Square Error loss were used."
      ]
    },
    {
      "cell_type": "code",
      "execution_count": null,
      "metadata": {
        "id": "vyC1Pe-v0ckE"
      },
      "outputs": [],
      "source": [
        "def get_pretrained_model():\n",
        "    model = tf.keras.Sequential([\n",
        "        # Input: Transforming from BW image to RGB\n",
        "        Input(shape=(img_height, img_width, 1)),\n",
        "        Conv2D(filters=3, kernel_size=3, padding='same'),\n",
        "\n",
        "        # Pretrained model\n",
        "        Xception(include_top=False, weights='imagenet', input_shape=(img_height, img_width, 3)),\n",
        "\n",
        "        # Convolutional layers to transform the third dimension from 2048 to 2 and the size of the images from 4 to 128\n",
        "        Conv2DTranspose(filters=512, kernel_size=3, strides=(2,2), padding='same', activation='relu'),\n",
        "        Conv2DTranspose(filters=128, kernel_size=3, strides=(2,2), padding='same', activation='relu'),\n",
        "        Conv2DTranspose(filters=64, kernel_size=3, strides=(2,2), padding='same', activation='relu'),\n",
        "        Conv2DTranspose(filters=32, kernel_size=3, strides=(2,2), padding='same', activation='relu'),\n",
        "        \n",
        "        # OUTPUT\n",
        "        Conv2DTranspose(filters=2, kernel_size=3, strides=(2,2), padding='same', activation='relu'),\n",
        "    ])\n",
        "\n",
        "    # Freeze layers of pretrained model\n",
        "    model.layers[1].trainable = False\n",
        "    \n",
        "    # Show model summary\n",
        "    model.build()\n",
        "    print(model.summary())\n",
        "\n",
        "    return model"
      ]
    },
    {
      "cell_type": "code",
      "execution_count": null,
      "metadata": {
        "colab": {
          "base_uri": "https://localhost:8080/"
        },
        "id": "v2Xh9Ydu0ckE",
        "outputId": "5599873e-5c7c-43f8-ecf7-434e7fdfb74b"
      },
      "outputs": [
        {
          "name": "stdout",
          "output_type": "stream",
          "text": [
            "Downloading data from https://storage.googleapis.com/tensorflow/keras-applications/xception/xception_weights_tf_dim_ordering_tf_kernels_notop.h5\n",
            "83683744/83683744 [==============================] - 1s 0us/step\n",
            "Model: \"sequential_2\"\n",
            "_________________________________________________________________\n",
            " Layer (type)                Output Shape              Param #   \n",
            "=================================================================\n",
            " conv2d_26 (Conv2D)          (None, 128, 128, 3)       30        \n",
            "                                                                 \n",
            " xception (Functional)       (None, 4, 4, 2048)        20861480  \n",
            "                                                                 \n",
            " conv2d_transpose_5 (Conv2DT  (None, 8, 8, 512)        9437696   \n",
            " ranspose)                                                       \n",
            "                                                                 \n",
            " conv2d_transpose_6 (Conv2DT  (None, 16, 16, 128)      589952    \n",
            " ranspose)                                                       \n",
            "                                                                 \n",
            " conv2d_transpose_7 (Conv2DT  (None, 32, 32, 64)       73792     \n",
            " ranspose)                                                       \n",
            "                                                                 \n",
            " conv2d_transpose_8 (Conv2DT  (None, 64, 64, 32)       18464     \n",
            " ranspose)                                                       \n",
            "                                                                 \n",
            " conv2d_transpose_9 (Conv2DT  (None, 128, 128, 2)      578       \n",
            " ranspose)                                                       \n",
            "                                                                 \n",
            "=================================================================\n",
            "Total params: 30,981,992\n",
            "Trainable params: 10,120,512\n",
            "Non-trainable params: 20,861,480\n",
            "_________________________________________________________________\n",
            "None\n"
          ]
        },
        {
          "data": {
            "text/plain": [
              "<keras.engine.sequential.Sequential at 0x7f04294a9410>"
            ]
          },
          "execution_count": 48,
          "metadata": {},
          "output_type": "execute_result"
        }
      ],
      "source": [
        "get_pretrained_model()"
      ]
    },
    {
      "cell_type": "markdown",
      "metadata": {
        "id": "7U_XrgbX0ckE"
      },
      "source": [
        "## Train Stage"
      ]
    },
    {
      "cell_type": "markdown",
      "metadata": {
        "id": "or-cAiiu0ckE"
      },
      "source": [
        "### Checkpoint\n",
        "Helper callback to save the best model during training based on validation accuracy. [More Info](https://lambdalabs.com/blog/tensorflow-2-0-tutorial-03-saving-checkpoints/)"
      ]
    },
    {
      "cell_type": "code",
      "execution_count": null,
      "metadata": {
        "id": "UTHBJBOR0ckF"
      },
      "outputs": [],
      "source": [
        "outputFolder = 'model'\n",
        "if not os.path.exists(outputFolder):\n",
        "    os.makedirs(outputFolder)\n",
        "    \n",
        "filepath = outputFolder + \"/model-mse-nosotfmax-{val_accuracy:.3f}.hdf5\" # Add {epoch:02d}- to not save only the best"
      ]
    },
    {
      "cell_type": "code",
      "execution_count": null,
      "metadata": {
        "id": "sJxPC86G0ckF"
      },
      "outputs": [],
      "source": [
        "checkpoint_callback = tf.keras.callbacks.ModelCheckpoint(\n",
        "    filepath, monitor='val_accuracy', verbose=0,\n",
        "    save_best_only=True, save_weights_only=False,\n",
        "    save_frequency=1)"
      ]
    },
    {
      "cell_type": "markdown",
      "metadata": {
        "id": "hdEa4XLH0ckF"
      },
      "source": [
        "### Helper Methods"
      ]
    },
    {
      "cell_type": "code",
      "execution_count": null,
      "metadata": {
        "id": "Z6l4rxB30ckF"
      },
      "outputs": [],
      "source": [
        "def plot_training(history):\n",
        "    # summarize history for accuracy\n",
        "    plt.plot(history.history['accuracy'])\n",
        "    plt.plot(history.history['val_accuracy'])\n",
        "    plt.title('model accuracy')\n",
        "    plt.ylabel('accuracy')\n",
        "    plt.xlabel('epoch')\n",
        "    plt.legend(['train', 'test'], loc='upper left')\n",
        "    plt.show()\n",
        "    \n",
        "    # summarize history for loss\n",
        "    plt.plot(history.history['loss'])\n",
        "    plt.plot(history.history['val_loss'])\n",
        "    plt.title('model loss')\n",
        "    plt.ylabel('loss')\n",
        "    plt.xlabel('epoch')\n",
        "    plt.legend(['train', 'test'], loc='upper left')\n",
        "    plt.show()"
      ]
    },
    {
      "cell_type": "markdown",
      "metadata": {
        "id": "YnOtHsMp0ckF"
      },
      "source": [
        "### Training"
      ]
    },
    {
      "cell_type": "code",
      "execution_count": null,
      "metadata": {
        "colab": {
          "base_uri": "https://localhost:8080/"
        },
        "id": "tMOyFWfJ0ckF",
        "outputId": "f681db71-5f8e-4b8f-d4e1-753b878342db",
        "scrolled": true
      },
      "outputs": [
        {
          "name": "stdout",
          "output_type": "stream",
          "text": [
            "Model: \"sequential_3\"\n",
            "_________________________________________________________________\n",
            " Layer (type)                Output Shape              Param #   \n",
            "=================================================================\n",
            " conv2d_31 (Conv2D)          (None, 128, 128, 64)      640       \n",
            "                                                                 \n",
            " conv2d_32 (Conv2D)          (None, 64, 64, 64)        36928     \n",
            "                                                                 \n",
            " batch_normalization_11 (Bat  (None, 64, 64, 64)       256       \n",
            " chNormalization)                                                \n",
            "                                                                 \n",
            " conv2d_33 (Conv2D)          (None, 64, 64, 128)       73856     \n",
            "                                                                 \n",
            " conv2d_34 (Conv2D)          (None, 32, 32, 128)       147584    \n",
            "                                                                 \n",
            " batch_normalization_12 (Bat  (None, 32, 32, 128)      512       \n",
            " chNormalization)                                                \n",
            "                                                                 \n",
            " conv2d_35 (Conv2D)          (None, 32, 32, 256)       295168    \n",
            "                                                                 \n",
            " conv2d_36 (Conv2D)          (None, 32, 32, 256)       590080    \n",
            "                                                                 \n",
            " conv2d_37 (Conv2D)          (None, 16, 16, 256)       590080    \n",
            "                                                                 \n",
            " batch_normalization_13 (Bat  (None, 16, 16, 256)      1024      \n",
            " chNormalization)                                                \n",
            "                                                                 \n",
            " conv2d_38 (Conv2D)          (None, 16, 16, 512)       1180160   \n",
            "                                                                 \n",
            " conv2d_39 (Conv2D)          (None, 16, 16, 512)       2359808   \n",
            "                                                                 \n",
            " conv2d_40 (Conv2D)          (None, 16, 16, 512)       2359808   \n",
            "                                                                 \n",
            " batch_normalization_14 (Bat  (None, 16, 16, 512)      2048      \n",
            " chNormalization)                                                \n",
            "                                                                 \n",
            " conv2d_41 (Conv2D)          (None, 16, 16, 512)       2359808   \n",
            "                                                                 \n",
            " conv2d_42 (Conv2D)          (None, 16, 16, 512)       2359808   \n",
            "                                                                 \n",
            " conv2d_43 (Conv2D)          (None, 16, 16, 512)       2359808   \n",
            "                                                                 \n",
            " batch_normalization_15 (Bat  (None, 16, 16, 512)      2048      \n",
            " chNormalization)                                                \n",
            "                                                                 \n",
            " conv2d_44 (Conv2D)          (None, 16, 16, 512)       2359808   \n",
            "                                                                 \n",
            " conv2d_45 (Conv2D)          (None, 16, 16, 512)       2359808   \n",
            "                                                                 \n",
            " conv2d_46 (Conv2D)          (None, 16, 16, 512)       2359808   \n",
            "                                                                 \n",
            " batch_normalization_16 (Bat  (None, 16, 16, 512)      2048      \n",
            " chNormalization)                                                \n",
            "                                                                 \n",
            " conv2d_47 (Conv2D)          (None, 16, 16, 512)       2359808   \n",
            "                                                                 \n",
            " conv2d_48 (Conv2D)          (None, 16, 16, 512)       2359808   \n",
            "                                                                 \n",
            " conv2d_49 (Conv2D)          (None, 16, 16, 512)       2359808   \n",
            "                                                                 \n",
            " batch_normalization_17 (Bat  (None, 16, 16, 512)      2048      \n",
            " chNormalization)                                                \n",
            "                                                                 \n",
            " conv2d_transpose_10 (Conv2D  (None, 32, 32, 256)      2097408   \n",
            " Transpose)                                                      \n",
            "                                                                 \n",
            " conv2d_50 (Conv2D)          (None, 32, 32, 256)       590080    \n",
            "                                                                 \n",
            " conv2d_51 (Conv2D)          (None, 32, 32, 313)       80441     \n",
            "                                                                 \n",
            " conv2d_52 (Conv2D)          (None, 32, 32, 2)         626       \n",
            "                                                                 \n",
            " up_sampling2d_1 (UpSampling  (None, 128, 128, 2)      0         \n",
            " 2D)                                                             \n",
            "                                                                 \n",
            "=================================================================\n",
            "Total params: 31,650,923\n",
            "Trainable params: 31,645,931\n",
            "Non-trainable params: 4,992\n",
            "_________________________________________________________________\n",
            "None\n"
          ]
        }
      ],
      "source": [
        "model = get_cnn_model()\n",
        "model.compile(optimizer='RMSProp', loss='mse', metrics=['accuracy'])"
      ]
    },
    {
      "cell_type": "code",
      "execution_count": null,
      "metadata": {
        "id": "A37yRQI40ckG"
      },
      "outputs": [],
      "source": [
        "#model.load_weights(\"drive/MyDrive/3epoch.h5\")"
      ]
    },
    {
      "cell_type": "code",
      "execution_count": null,
      "metadata": {
        "id": "7ZN9TuXh1VDu"
      },
      "outputs": [],
      "source": [
        "TRAIN_STEPS_PER_EPOCH = image_count*batch_size\n",
        "# to ensure that there are enough images for training bahch\n",
        "#VAL_STEPS_PER_EPOCH = np.ceil((image_count*0.2/batch_size)-1)"
      ]
    },
    {
      "cell_type": "code",
      "execution_count": null,
      "metadata": {
        "colab": {
          "base_uri": "https://localhost:8080/"
        },
        "id": "0taHjXOf4VXf",
        "outputId": "f5cd83c1-3ff6-452b-a5d1-0515b7cb5f6a"
      },
      "outputs": [
        {
          "data": {
            "text/plain": [
              "6356"
            ]
          },
          "execution_count": 55,
          "metadata": {},
          "output_type": "execute_result"
        }
      ],
      "source": [
        "val_size"
      ]
    },
    {
      "cell_type": "code",
      "execution_count": null,
      "metadata": {
        "colab": {
          "background_save": true,
          "base_uri": "https://localhost:8080/"
        },
        "id": "5OpVBvwR0ckG",
        "outputId": "ec231da5-7a58-4559-85ae-4e82f24be4bd"
      },
      "outputs": [
        {
          "name": "stdout",
          "output_type": "stream",
          "text": [
            "Epoch 1/10\n",
            "  2/265 [..............................] - ETA: 9:33:06 - loss: 1083.6663 - accuracy: 0.5135"
          ]
        },
        {
          "ename": "KeyboardInterrupt",
          "evalue": "ignored",
          "output_type": "error",
          "traceback": [
            "\u001b[0;31m---------------------------------------------------------------------------\u001b[0m",
            "\u001b[0;31mKeyboardInterrupt\u001b[0m                         Traceback (most recent call last)",
            "\u001b[0;32m<ipython-input-56-556c092d9778>\u001b[0m in \u001b[0;36m<module>\u001b[0;34m\u001b[0m\n\u001b[1;32m      4\u001b[0m   \u001b[0mepochs\u001b[0m\u001b[0;34m=\u001b[0m\u001b[0;36m10\u001b[0m\u001b[0;34m,\u001b[0m\u001b[0;34m\u001b[0m\u001b[0;34m\u001b[0m\u001b[0m\n\u001b[1;32m      5\u001b[0m   \u001b[0minitial_epoch\u001b[0m\u001b[0;34m=\u001b[0m\u001b[0;36m0\u001b[0m\u001b[0;34m,\u001b[0m\u001b[0;34m\u001b[0m\u001b[0;34m\u001b[0m\u001b[0m\n\u001b[0;32m----> 6\u001b[0;31m   \u001b[0mcallbacks\u001b[0m\u001b[0;34m=\u001b[0m\u001b[0;34m[\u001b[0m\u001b[0mcheckpoint_callback\u001b[0m\u001b[0;34m]\u001b[0m\u001b[0;34m\u001b[0m\u001b[0;34m\u001b[0m\u001b[0m\n\u001b[0m\u001b[1;32m      7\u001b[0m )\n",
            "\u001b[0;32m/usr/local/lib/python3.7/dist-packages/keras/utils/traceback_utils.py\u001b[0m in \u001b[0;36merror_handler\u001b[0;34m(*args, **kwargs)\u001b[0m\n\u001b[1;32m     62\u001b[0m     \u001b[0mfiltered_tb\u001b[0m \u001b[0;34m=\u001b[0m \u001b[0;32mNone\u001b[0m\u001b[0;34m\u001b[0m\u001b[0;34m\u001b[0m\u001b[0m\n\u001b[1;32m     63\u001b[0m     \u001b[0;32mtry\u001b[0m\u001b[0;34m:\u001b[0m\u001b[0;34m\u001b[0m\u001b[0;34m\u001b[0m\u001b[0m\n\u001b[0;32m---> 64\u001b[0;31m       \u001b[0;32mreturn\u001b[0m \u001b[0mfn\u001b[0m\u001b[0;34m(\u001b[0m\u001b[0;34m*\u001b[0m\u001b[0margs\u001b[0m\u001b[0;34m,\u001b[0m \u001b[0;34m**\u001b[0m\u001b[0mkwargs\u001b[0m\u001b[0;34m)\u001b[0m\u001b[0;34m\u001b[0m\u001b[0;34m\u001b[0m\u001b[0m\n\u001b[0m\u001b[1;32m     65\u001b[0m     \u001b[0;32mexcept\u001b[0m \u001b[0mException\u001b[0m \u001b[0;32mas\u001b[0m \u001b[0me\u001b[0m\u001b[0;34m:\u001b[0m  \u001b[0;31m# pylint: disable=broad-except\u001b[0m\u001b[0;34m\u001b[0m\u001b[0;34m\u001b[0m\u001b[0m\n\u001b[1;32m     66\u001b[0m       \u001b[0mfiltered_tb\u001b[0m \u001b[0;34m=\u001b[0m \u001b[0m_process_traceback_frames\u001b[0m\u001b[0;34m(\u001b[0m\u001b[0me\u001b[0m\u001b[0;34m.\u001b[0m\u001b[0m__traceback__\u001b[0m\u001b[0;34m)\u001b[0m\u001b[0;34m\u001b[0m\u001b[0;34m\u001b[0m\u001b[0m\n",
            "\u001b[0;32m/usr/local/lib/python3.7/dist-packages/keras/engine/training.py\u001b[0m in \u001b[0;36mfit\u001b[0;34m(self, x, y, batch_size, epochs, verbose, callbacks, validation_split, validation_data, shuffle, class_weight, sample_weight, initial_epoch, steps_per_epoch, validation_steps, validation_batch_size, validation_freq, max_queue_size, workers, use_multiprocessing)\u001b[0m\n\u001b[1;32m   1407\u001b[0m                 _r=1):\n\u001b[1;32m   1408\u001b[0m               \u001b[0mcallbacks\u001b[0m\u001b[0;34m.\u001b[0m\u001b[0mon_train_batch_begin\u001b[0m\u001b[0;34m(\u001b[0m\u001b[0mstep\u001b[0m\u001b[0;34m)\u001b[0m\u001b[0;34m\u001b[0m\u001b[0;34m\u001b[0m\u001b[0m\n\u001b[0;32m-> 1409\u001b[0;31m               \u001b[0mtmp_logs\u001b[0m \u001b[0;34m=\u001b[0m \u001b[0mself\u001b[0m\u001b[0;34m.\u001b[0m\u001b[0mtrain_function\u001b[0m\u001b[0;34m(\u001b[0m\u001b[0miterator\u001b[0m\u001b[0;34m)\u001b[0m\u001b[0;34m\u001b[0m\u001b[0;34m\u001b[0m\u001b[0m\n\u001b[0m\u001b[1;32m   1410\u001b[0m               \u001b[0;32mif\u001b[0m \u001b[0mdata_handler\u001b[0m\u001b[0;34m.\u001b[0m\u001b[0mshould_sync\u001b[0m\u001b[0;34m:\u001b[0m\u001b[0;34m\u001b[0m\u001b[0;34m\u001b[0m\u001b[0m\n\u001b[1;32m   1411\u001b[0m                 \u001b[0mcontext\u001b[0m\u001b[0;34m.\u001b[0m\u001b[0masync_wait\u001b[0m\u001b[0;34m(\u001b[0m\u001b[0;34m)\u001b[0m\u001b[0;34m\u001b[0m\u001b[0;34m\u001b[0m\u001b[0m\n",
            "\u001b[0;32m/usr/local/lib/python3.7/dist-packages/tensorflow/python/util/traceback_utils.py\u001b[0m in \u001b[0;36merror_handler\u001b[0;34m(*args, **kwargs)\u001b[0m\n\u001b[1;32m    148\u001b[0m     \u001b[0mfiltered_tb\u001b[0m \u001b[0;34m=\u001b[0m \u001b[0;32mNone\u001b[0m\u001b[0;34m\u001b[0m\u001b[0;34m\u001b[0m\u001b[0m\n\u001b[1;32m    149\u001b[0m     \u001b[0;32mtry\u001b[0m\u001b[0;34m:\u001b[0m\u001b[0;34m\u001b[0m\u001b[0;34m\u001b[0m\u001b[0m\n\u001b[0;32m--> 150\u001b[0;31m       \u001b[0;32mreturn\u001b[0m \u001b[0mfn\u001b[0m\u001b[0;34m(\u001b[0m\u001b[0;34m*\u001b[0m\u001b[0margs\u001b[0m\u001b[0;34m,\u001b[0m \u001b[0;34m**\u001b[0m\u001b[0mkwargs\u001b[0m\u001b[0;34m)\u001b[0m\u001b[0;34m\u001b[0m\u001b[0;34m\u001b[0m\u001b[0m\n\u001b[0m\u001b[1;32m    151\u001b[0m     \u001b[0;32mexcept\u001b[0m \u001b[0mException\u001b[0m \u001b[0;32mas\u001b[0m \u001b[0me\u001b[0m\u001b[0;34m:\u001b[0m\u001b[0;34m\u001b[0m\u001b[0;34m\u001b[0m\u001b[0m\n\u001b[1;32m    152\u001b[0m       \u001b[0mfiltered_tb\u001b[0m \u001b[0;34m=\u001b[0m \u001b[0m_process_traceback_frames\u001b[0m\u001b[0;34m(\u001b[0m\u001b[0me\u001b[0m\u001b[0;34m.\u001b[0m\u001b[0m__traceback__\u001b[0m\u001b[0;34m)\u001b[0m\u001b[0;34m\u001b[0m\u001b[0;34m\u001b[0m\u001b[0m\n",
            "\u001b[0;32m/usr/local/lib/python3.7/dist-packages/tensorflow/python/eager/def_function.py\u001b[0m in \u001b[0;36m__call__\u001b[0;34m(self, *args, **kwds)\u001b[0m\n\u001b[1;32m    913\u001b[0m \u001b[0;34m\u001b[0m\u001b[0m\n\u001b[1;32m    914\u001b[0m       \u001b[0;32mwith\u001b[0m \u001b[0mOptionalXlaContext\u001b[0m\u001b[0;34m(\u001b[0m\u001b[0mself\u001b[0m\u001b[0;34m.\u001b[0m\u001b[0m_jit_compile\u001b[0m\u001b[0;34m)\u001b[0m\u001b[0;34m:\u001b[0m\u001b[0;34m\u001b[0m\u001b[0;34m\u001b[0m\u001b[0m\n\u001b[0;32m--> 915\u001b[0;31m         \u001b[0mresult\u001b[0m \u001b[0;34m=\u001b[0m \u001b[0mself\u001b[0m\u001b[0;34m.\u001b[0m\u001b[0m_call\u001b[0m\u001b[0;34m(\u001b[0m\u001b[0;34m*\u001b[0m\u001b[0margs\u001b[0m\u001b[0;34m,\u001b[0m \u001b[0;34m**\u001b[0m\u001b[0mkwds\u001b[0m\u001b[0;34m)\u001b[0m\u001b[0;34m\u001b[0m\u001b[0;34m\u001b[0m\u001b[0m\n\u001b[0m\u001b[1;32m    916\u001b[0m \u001b[0;34m\u001b[0m\u001b[0m\n\u001b[1;32m    917\u001b[0m       \u001b[0mnew_tracing_count\u001b[0m \u001b[0;34m=\u001b[0m \u001b[0mself\u001b[0m\u001b[0;34m.\u001b[0m\u001b[0mexperimental_get_tracing_count\u001b[0m\u001b[0;34m(\u001b[0m\u001b[0;34m)\u001b[0m\u001b[0;34m\u001b[0m\u001b[0;34m\u001b[0m\u001b[0m\n",
            "\u001b[0;32m/usr/local/lib/python3.7/dist-packages/tensorflow/python/eager/def_function.py\u001b[0m in \u001b[0;36m_call\u001b[0;34m(self, *args, **kwds)\u001b[0m\n\u001b[1;32m    945\u001b[0m       \u001b[0;31m# In this case we have created variables on the first call, so we run the\u001b[0m\u001b[0;34m\u001b[0m\u001b[0;34m\u001b[0m\u001b[0;34m\u001b[0m\u001b[0m\n\u001b[1;32m    946\u001b[0m       \u001b[0;31m# defunned version which is guaranteed to never create variables.\u001b[0m\u001b[0;34m\u001b[0m\u001b[0;34m\u001b[0m\u001b[0;34m\u001b[0m\u001b[0m\n\u001b[0;32m--> 947\u001b[0;31m       \u001b[0;32mreturn\u001b[0m \u001b[0mself\u001b[0m\u001b[0;34m.\u001b[0m\u001b[0m_stateless_fn\u001b[0m\u001b[0;34m(\u001b[0m\u001b[0;34m*\u001b[0m\u001b[0margs\u001b[0m\u001b[0;34m,\u001b[0m \u001b[0;34m**\u001b[0m\u001b[0mkwds\u001b[0m\u001b[0;34m)\u001b[0m  \u001b[0;31m# pylint: disable=not-callable\u001b[0m\u001b[0;34m\u001b[0m\u001b[0;34m\u001b[0m\u001b[0m\n\u001b[0m\u001b[1;32m    948\u001b[0m     \u001b[0;32melif\u001b[0m \u001b[0mself\u001b[0m\u001b[0;34m.\u001b[0m\u001b[0m_stateful_fn\u001b[0m \u001b[0;32mis\u001b[0m \u001b[0;32mnot\u001b[0m \u001b[0;32mNone\u001b[0m\u001b[0;34m:\u001b[0m\u001b[0;34m\u001b[0m\u001b[0;34m\u001b[0m\u001b[0m\n\u001b[1;32m    949\u001b[0m       \u001b[0;31m# Release the lock early so that multiple threads can perform the call\u001b[0m\u001b[0;34m\u001b[0m\u001b[0;34m\u001b[0m\u001b[0;34m\u001b[0m\u001b[0m\n",
            "\u001b[0;32m/usr/local/lib/python3.7/dist-packages/tensorflow/python/eager/function.py\u001b[0m in \u001b[0;36m__call__\u001b[0;34m(self, *args, **kwargs)\u001b[0m\n\u001b[1;32m   2452\u001b[0m        filtered_flat_args) = self._maybe_define_function(args, kwargs)\n\u001b[1;32m   2453\u001b[0m     return graph_function._call_flat(\n\u001b[0;32m-> 2454\u001b[0;31m         filtered_flat_args, captured_inputs=graph_function.captured_inputs)  # pylint: disable=protected-access\n\u001b[0m\u001b[1;32m   2455\u001b[0m \u001b[0;34m\u001b[0m\u001b[0m\n\u001b[1;32m   2456\u001b[0m   \u001b[0;34m@\u001b[0m\u001b[0mproperty\u001b[0m\u001b[0;34m\u001b[0m\u001b[0;34m\u001b[0m\u001b[0m\n",
            "\u001b[0;32m/usr/local/lib/python3.7/dist-packages/tensorflow/python/eager/function.py\u001b[0m in \u001b[0;36m_call_flat\u001b[0;34m(self, args, captured_inputs, cancellation_manager)\u001b[0m\n\u001b[1;32m   1859\u001b[0m       \u001b[0;31m# No tape is watching; skip to running the function.\u001b[0m\u001b[0;34m\u001b[0m\u001b[0;34m\u001b[0m\u001b[0;34m\u001b[0m\u001b[0m\n\u001b[1;32m   1860\u001b[0m       return self._build_call_outputs(self._inference_function.call(\n\u001b[0;32m-> 1861\u001b[0;31m           ctx, args, cancellation_manager=cancellation_manager))\n\u001b[0m\u001b[1;32m   1862\u001b[0m     forward_backward = self._select_forward_and_backward_functions(\n\u001b[1;32m   1863\u001b[0m         \u001b[0margs\u001b[0m\u001b[0;34m,\u001b[0m\u001b[0;34m\u001b[0m\u001b[0;34m\u001b[0m\u001b[0m\n",
            "\u001b[0;32m/usr/local/lib/python3.7/dist-packages/tensorflow/python/eager/function.py\u001b[0m in \u001b[0;36mcall\u001b[0;34m(self, ctx, args, cancellation_manager)\u001b[0m\n\u001b[1;32m    500\u001b[0m               \u001b[0minputs\u001b[0m\u001b[0;34m=\u001b[0m\u001b[0margs\u001b[0m\u001b[0;34m,\u001b[0m\u001b[0;34m\u001b[0m\u001b[0;34m\u001b[0m\u001b[0m\n\u001b[1;32m    501\u001b[0m               \u001b[0mattrs\u001b[0m\u001b[0;34m=\u001b[0m\u001b[0mattrs\u001b[0m\u001b[0;34m,\u001b[0m\u001b[0;34m\u001b[0m\u001b[0;34m\u001b[0m\u001b[0m\n\u001b[0;32m--> 502\u001b[0;31m               ctx=ctx)\n\u001b[0m\u001b[1;32m    503\u001b[0m         \u001b[0;32melse\u001b[0m\u001b[0;34m:\u001b[0m\u001b[0;34m\u001b[0m\u001b[0;34m\u001b[0m\u001b[0m\n\u001b[1;32m    504\u001b[0m           outputs = execute.execute_with_cancellation(\n",
            "\u001b[0;32m/usr/local/lib/python3.7/dist-packages/tensorflow/python/eager/execute.py\u001b[0m in \u001b[0;36mquick_execute\u001b[0;34m(op_name, num_outputs, inputs, attrs, ctx, name)\u001b[0m\n\u001b[1;32m     53\u001b[0m     \u001b[0mctx\u001b[0m\u001b[0;34m.\u001b[0m\u001b[0mensure_initialized\u001b[0m\u001b[0;34m(\u001b[0m\u001b[0;34m)\u001b[0m\u001b[0;34m\u001b[0m\u001b[0;34m\u001b[0m\u001b[0m\n\u001b[1;32m     54\u001b[0m     tensors = pywrap_tfe.TFE_Py_Execute(ctx._handle, device_name, op_name,\n\u001b[0;32m---> 55\u001b[0;31m                                         inputs, attrs, num_outputs)\n\u001b[0m\u001b[1;32m     56\u001b[0m   \u001b[0;32mexcept\u001b[0m \u001b[0mcore\u001b[0m\u001b[0;34m.\u001b[0m\u001b[0m_NotOkStatusException\u001b[0m \u001b[0;32mas\u001b[0m \u001b[0me\u001b[0m\u001b[0;34m:\u001b[0m\u001b[0;34m\u001b[0m\u001b[0;34m\u001b[0m\u001b[0m\n\u001b[1;32m     57\u001b[0m     \u001b[0;32mif\u001b[0m \u001b[0mname\u001b[0m \u001b[0;32mis\u001b[0m \u001b[0;32mnot\u001b[0m \u001b[0;32mNone\u001b[0m\u001b[0;34m:\u001b[0m\u001b[0;34m\u001b[0m\u001b[0;34m\u001b[0m\u001b[0m\n",
            "\u001b[0;31mKeyboardInterrupt\u001b[0m: "
          ]
        }
      ],
      "source": [
        "model_info = model.fit(\n",
        "  train_ds,\n",
        "  validation_data=val_ds,\n",
        "  epochs=25,\n",
        "  initial_epoch=0,\n",
        "  callbacks=[checkpoint_callback] \n",
        ")"
      ]
    },
    {
      "cell_type": "code",
      "execution_count": null,
      "metadata": {
        "id": "SOSPO5xO27iP"
      },
      "outputs": [],
      "source": [
        "image_count"
      ]
    },
    {
      "cell_type": "code",
      "execution_count": null,
      "metadata": {
        "id": "T9munkIv0ckG"
      },
      "outputs": [],
      "source": [
        "plot_training(model_info)"
      ]
    },
    {
      "cell_type": "code",
      "execution_count": null,
      "metadata": {
        "id": "MzbBsmWy0ckG"
      },
      "outputs": [],
      "source": [
        "model.save_weights(\"drive/MyDrive/model30.h5\")"
      ]
    },
    {
      "cell_type": "markdown",
      "metadata": {
        "id": "kyguAhyb0ckG"
      },
      "source": [
        "## Test Stage"
      ]
    },
    {
      "cell_type": "code",
      "execution_count": null,
      "metadata": {
        "id": "IHqvNgTP0ckH"
      },
      "outputs": [],
      "source": [
        "best_model_weights_path = \"drive/MyDrive/cnn_model_last.h5\""
      ]
    },
    {
      "cell_type": "code",
      "execution_count": null,
      "metadata": {
        "id": "eF40VSh20ckH",
        "scrolled": true
      },
      "outputs": [],
      "source": [
        "best_model = get_cnn_model()\n",
        "best_model.load_weights(best_model_weights_path)"
      ]
    },
    {
      "cell_type": "markdown",
      "metadata": {
        "id": "7SBKDE2p0ckH"
      },
      "source": [
        "### Validation Set\n",
        "Take one batch of validation set and print predicted image at the left compared to original image at the right."
      ]
    },
    {
      "cell_type": "code",
      "execution_count": null,
      "metadata": {
        "id": "w-4vtay9322o"
      },
      "outputs": [],
      "source": [
        "a = val_ds.take(1)"
      ]
    },
    {
      "cell_type": "code",
      "execution_count": null,
      "metadata": {
        "id": "7fiHycm10ckH"
      },
      "outputs": [],
      "source": [
        "plt.figure(figsize=(10, 10))\n",
        "\n",
        "for image_batch, label_batch in a:\n",
        "    predictions = best_model.predict(image_batch,  verbose=1)\n",
        "    \n",
        "    for i in range(0, 8, 2):        \n",
        "        predicted_img = np.concatenate((image_batch[i], predictions[i]), axis=2)\n",
        "        predicted_img = lab_to_rgb(predicted_img).numpy()\n",
        "        \n",
        "        original_img = np.concatenate((image_batch[i], label_batch[i]), axis=2)\n",
        "        original_img = lab_to_rgb(original_img).numpy()\n",
        "        \n",
        "        plt.subplot(4, 2, i + 1)\n",
        "        plt.imshow(predicted_img)\n",
        "        plt.title(i)\n",
        "        plt.axis(\"off\")\n",
        "        \n",
        "        plt.subplot(4, 2, i + 2)        \n",
        "        plt.imshow(original_img)\n",
        "        plt.title(i)\n",
        "        plt.axis(\"off\")"
      ]
    },
    {
      "cell_type": "markdown",
      "metadata": {
        "id": "YuC5sabQ0ckH"
      },
      "source": [
        "## Convert custom pictures\n",
        "Below are samples with pictures taken from Google."
      ]
    },
    {
      "cell_type": "code",
      "execution_count": null,
      "metadata": {
        "id": "qaZm-YUZ84ym"
      },
      "outputs": [],
      "source": [
        "def predict_and_show(image_path):\n",
        "  image_to_predict_lab = get_l_ab_channels(image_path)\n",
        "\n",
        "  # Use only L channel (grayscale) to predict\n",
        "  image_to_predict = tf.expand_dims(image_to_predict_lab[0], 0)\n",
        "\n",
        "  # Predict\n",
        "  prediction = best_model.predict(image_to_predict,  verbose=1)[0]\n",
        "\n",
        "  original_img = np.concatenate((image_to_predict_lab[0], image_to_predict_lab[1]), axis=2)\n",
        "  original_img = lab_to_rgb(original_img).numpy()\n",
        "\n",
        "  predicted_img = np.concatenate((image_to_predict[0], prediction), axis=2)\n",
        "  predicted_img = lab_to_rgb(predicted_img).numpy()\n",
        "\n",
        "  plt.figure(figsize=(10, 10))\n",
        "\n",
        "  plt.subplot(1, 2, 1)        \n",
        "  plt.imshow(original_img)\n",
        "  plt.title(\"Original\")\n",
        "  plt.axis(\"off\")\n",
        "\n",
        "  plt.subplot(1, 2, 2)\n",
        "  plt.imshow(predicted_img)\n",
        "  plt.title(\"Predicted\")\n",
        "  plt.axis(\"off\")"
      ]
    },
    {
      "cell_type": "code",
      "execution_count": null,
      "metadata": {
        "id": "zIVWzO850ckI"
      },
      "outputs": [],
      "source": [
        "predict_and_show(\"mona.jpeg\")"
      ]
    },
    {
      "cell_type": "code",
      "execution_count": null,
      "metadata": {
        "id": "e9KV2JZ_9IlQ"
      },
      "outputs": [],
      "source": [
        "predict_and_show(\"test2.jpeg\")"
      ]
    }
  ],
  "metadata": {
    "accelerator": "GPU",
    "colab": {
      "collapsed_sections": [
        "VeR2CWwy0ckD",
        "3HoyWd5E0ckE",
        "hdEa4XLH0ckF"
      ],
      "provenance": [],
      "include_colab_link": true
    },
    "gpuClass": "standard",
    "kernelspec": {
      "display_name": "Python 3",
      "language": "python",
      "name": "python3"
    },
    "language_info": {
      "codemirror_mode": {
        "name": "ipython",
        "version": 3
      },
      "file_extension": ".py",
      "mimetype": "text/x-python",
      "name": "python",
      "nbconvert_exporter": "python",
      "pygments_lexer": "ipython3",
      "version": "3.8.5"
    }
  },
  "nbformat": 4,
  "nbformat_minor": 0
}